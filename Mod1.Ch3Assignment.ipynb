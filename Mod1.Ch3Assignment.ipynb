{
 "cells": [
  {
   "cell_type": "code",
   "execution_count": 2,
   "id": "71d260b7",
   "metadata": {},
   "outputs": [
    {
     "name": "stdout",
     "output_type": "stream",
     "text": [
      "3600\n",
      "86400\n",
      "86400\n",
      "24.0 24\n"
     ]
    }
   ],
   "source": [
    "sec = 60\n",
    "min = 60\n",
    "seconds_per_hour = 1*sec*min\n",
    "print(seconds_per_hour)\n",
    "\n",
    "daily_seconds = 24*seconds_per_hour\n",
    "print(daily_seconds)\n",
    "\n",
    "daily_hours = 24\n",
    "seconds_per_day = daily_hours*seconds_per_hour\n",
    "print(seconds_per_day)\n",
    "\n",
    "div1 = seconds_per_day/seconds_per_hour\n",
    "div2 = seconds_per_day//seconds_per_hour\n",
    "print(div1,div2)\n",
    "\n",
    "\n"
   ]
  },
  {
   "cell_type": "code",
   "execution_count": null,
   "id": "d56b5290",
   "metadata": {},
   "outputs": [],
   "source": []
  }
 ],
 "metadata": {
  "kernelspec": {
   "display_name": "Python 3 (ipykernel)",
   "language": "python",
   "name": "python3"
  },
  "language_info": {
   "codemirror_mode": {
    "name": "ipython",
    "version": 3
   },
   "file_extension": ".py",
   "mimetype": "text/x-python",
   "name": "python",
   "nbconvert_exporter": "python",
   "pygments_lexer": "ipython3",
   "version": "3.11.5"
  }
 },
 "nbformat": 4,
 "nbformat_minor": 5
}
